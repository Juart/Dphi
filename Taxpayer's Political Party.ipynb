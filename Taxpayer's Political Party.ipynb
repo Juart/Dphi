{
 "cells": [
  {
   "cell_type": "code",
   "execution_count": 1,
   "metadata": {},
   "outputs": [],
   "source": [
    "import pandas as pd"
   ]
  },
  {
   "cell_type": "code",
   "execution_count": 2,
   "metadata": {},
   "outputs": [],
   "source": [
    "df = pd.read_csv('train_set_label.csv')"
   ]
  },
  {
   "cell_type": "code",
   "execution_count": 3,
   "metadata": {},
   "outputs": [
    {
     "data": {
      "text/html": [
       "<div>\n",
       "<style scoped>\n",
       "    .dataframe tbody tr th:only-of-type {\n",
       "        vertical-align: middle;\n",
       "    }\n",
       "\n",
       "    .dataframe tbody tr th {\n",
       "        vertical-align: top;\n",
       "    }\n",
       "\n",
       "    .dataframe thead th {\n",
       "        text-align: right;\n",
       "    }\n",
       "</style>\n",
       "<table border=\"1\" class=\"dataframe\">\n",
       "  <thead>\n",
       "    <tr style=\"text-align: right;\">\n",
       "      <th></th>\n",
       "      <th>Unnamed: 0</th>\n",
       "      <th>HHI</th>\n",
       "      <th>HHDL</th>\n",
       "      <th>Married</th>\n",
       "      <th>CollegGrads</th>\n",
       "      <th>AHHAge</th>\n",
       "      <th>Cars</th>\n",
       "      <th>Filed in 2017</th>\n",
       "      <th>Filed in 2016</th>\n",
       "      <th>Filed in 2015</th>\n",
       "      <th>PoliticalParty</th>\n",
       "    </tr>\n",
       "  </thead>\n",
       "  <tbody>\n",
       "    <tr>\n",
       "      <th>0</th>\n",
       "      <td>61</td>\n",
       "      <td>183414</td>\n",
       "      <td>-12402</td>\n",
       "      <td>1</td>\n",
       "      <td>2</td>\n",
       "      <td>28</td>\n",
       "      <td>1</td>\n",
       "      <td>0</td>\n",
       "      <td>0</td>\n",
       "      <td>1</td>\n",
       "      <td>Democrat</td>\n",
       "    </tr>\n",
       "    <tr>\n",
       "      <th>1</th>\n",
       "      <td>501</td>\n",
       "      <td>129786</td>\n",
       "      <td>700251</td>\n",
       "      <td>2</td>\n",
       "      <td>5</td>\n",
       "      <td>63</td>\n",
       "      <td>3</td>\n",
       "      <td>0</td>\n",
       "      <td>0</td>\n",
       "      <td>0</td>\n",
       "      <td>Republican</td>\n",
       "    </tr>\n",
       "    <tr>\n",
       "      <th>2</th>\n",
       "      <td>658</td>\n",
       "      <td>268343</td>\n",
       "      <td>493411</td>\n",
       "      <td>2</td>\n",
       "      <td>4</td>\n",
       "      <td>44</td>\n",
       "      <td>1</td>\n",
       "      <td>1</td>\n",
       "      <td>0</td>\n",
       "      <td>1</td>\n",
       "      <td>Independent</td>\n",
       "    </tr>\n",
       "    <tr>\n",
       "      <th>3</th>\n",
       "      <td>703</td>\n",
       "      <td>290506</td>\n",
       "      <td>-433408</td>\n",
       "      <td>1</td>\n",
       "      <td>1</td>\n",
       "      <td>28</td>\n",
       "      <td>5</td>\n",
       "      <td>1</td>\n",
       "      <td>0</td>\n",
       "      <td>1</td>\n",
       "      <td>Republican</td>\n",
       "    </tr>\n",
       "    <tr>\n",
       "      <th>4</th>\n",
       "      <td>702</td>\n",
       "      <td>90108</td>\n",
       "      <td>907135</td>\n",
       "      <td>1</td>\n",
       "      <td>3</td>\n",
       "      <td>57</td>\n",
       "      <td>5</td>\n",
       "      <td>1</td>\n",
       "      <td>1</td>\n",
       "      <td>0</td>\n",
       "      <td>Democrat</td>\n",
       "    </tr>\n",
       "  </tbody>\n",
       "</table>\n",
       "</div>"
      ],
      "text/plain": [
       "   Unnamed: 0     HHI    HHDL  Married  CollegGrads  AHHAge  Cars  \\\n",
       "0          61  183414  -12402        1            2      28     1   \n",
       "1         501  129786  700251        2            5      63     3   \n",
       "2         658  268343  493411        2            4      44     1   \n",
       "3         703  290506 -433408        1            1      28     5   \n",
       "4         702   90108  907135        1            3      57     5   \n",
       "\n",
       "   Filed in 2017  Filed in 2016  Filed in 2015 PoliticalParty  \n",
       "0              0              0              1       Democrat  \n",
       "1              0              0              0     Republican  \n",
       "2              1              0              1    Independent  \n",
       "3              1              0              1     Republican  \n",
       "4              1              1              0       Democrat  "
      ]
     },
     "execution_count": 3,
     "metadata": {},
     "output_type": "execute_result"
    }
   ],
   "source": [
    "df.head()"
   ]
  },
  {
   "cell_type": "code",
   "execution_count": 4,
   "metadata": {},
   "outputs": [
    {
     "data": {
      "text/html": [
       "<div>\n",
       "<style scoped>\n",
       "    .dataframe tbody tr th:only-of-type {\n",
       "        vertical-align: middle;\n",
       "    }\n",
       "\n",
       "    .dataframe tbody tr th {\n",
       "        vertical-align: top;\n",
       "    }\n",
       "\n",
       "    .dataframe thead th {\n",
       "        text-align: right;\n",
       "    }\n",
       "</style>\n",
       "<table border=\"1\" class=\"dataframe\">\n",
       "  <thead>\n",
       "    <tr style=\"text-align: right;\">\n",
       "      <th></th>\n",
       "      <th>Unnamed: 0</th>\n",
       "      <th>HHI</th>\n",
       "      <th>HHDL</th>\n",
       "      <th>Married</th>\n",
       "      <th>CollegGrads</th>\n",
       "      <th>AHHAge</th>\n",
       "      <th>Cars</th>\n",
       "      <th>Filed in 2017</th>\n",
       "      <th>Filed in 2016</th>\n",
       "      <th>Filed in 2015</th>\n",
       "      <th>PoliticalParty</th>\n",
       "    </tr>\n",
       "  </thead>\n",
       "  <tbody>\n",
       "    <tr>\n",
       "      <th>0</th>\n",
       "      <td>61</td>\n",
       "      <td>183414</td>\n",
       "      <td>-12402</td>\n",
       "      <td>1</td>\n",
       "      <td>2</td>\n",
       "      <td>28</td>\n",
       "      <td>1</td>\n",
       "      <td>0</td>\n",
       "      <td>0</td>\n",
       "      <td>1</td>\n",
       "      <td>Democrat</td>\n",
       "    </tr>\n",
       "    <tr>\n",
       "      <th>1</th>\n",
       "      <td>501</td>\n",
       "      <td>129786</td>\n",
       "      <td>700251</td>\n",
       "      <td>2</td>\n",
       "      <td>5</td>\n",
       "      <td>63</td>\n",
       "      <td>3</td>\n",
       "      <td>0</td>\n",
       "      <td>0</td>\n",
       "      <td>0</td>\n",
       "      <td>Republican</td>\n",
       "    </tr>\n",
       "    <tr>\n",
       "      <th>2</th>\n",
       "      <td>658</td>\n",
       "      <td>268343</td>\n",
       "      <td>493411</td>\n",
       "      <td>2</td>\n",
       "      <td>4</td>\n",
       "      <td>44</td>\n",
       "      <td>1</td>\n",
       "      <td>1</td>\n",
       "      <td>0</td>\n",
       "      <td>1</td>\n",
       "      <td>Independent</td>\n",
       "    </tr>\n",
       "    <tr>\n",
       "      <th>3</th>\n",
       "      <td>703</td>\n",
       "      <td>290506</td>\n",
       "      <td>-433408</td>\n",
       "      <td>1</td>\n",
       "      <td>1</td>\n",
       "      <td>28</td>\n",
       "      <td>5</td>\n",
       "      <td>1</td>\n",
       "      <td>0</td>\n",
       "      <td>1</td>\n",
       "      <td>Republican</td>\n",
       "    </tr>\n",
       "    <tr>\n",
       "      <th>4</th>\n",
       "      <td>702</td>\n",
       "      <td>90108</td>\n",
       "      <td>907135</td>\n",
       "      <td>1</td>\n",
       "      <td>3</td>\n",
       "      <td>57</td>\n",
       "      <td>5</td>\n",
       "      <td>1</td>\n",
       "      <td>1</td>\n",
       "      <td>0</td>\n",
       "      <td>Democrat</td>\n",
       "    </tr>\n",
       "  </tbody>\n",
       "</table>\n",
       "</div>"
      ],
      "text/plain": [
       "   Unnamed: 0     HHI    HHDL  Married  CollegGrads  AHHAge  Cars  \\\n",
       "0          61  183414  -12402        1            2      28     1   \n",
       "1         501  129786  700251        2            5      63     3   \n",
       "2         658  268343  493411        2            4      44     1   \n",
       "3         703  290506 -433408        1            1      28     5   \n",
       "4         702   90108  907135        1            3      57     5   \n",
       "\n",
       "   Filed in 2017  Filed in 2016  Filed in 2015 PoliticalParty  \n",
       "0              0              0              1       Democrat  \n",
       "1              0              0              0     Republican  \n",
       "2              1              0              1    Independent  \n",
       "3              1              0              1     Republican  \n",
       "4              1              1              0       Democrat  "
      ]
     },
     "execution_count": 4,
     "metadata": {},
     "output_type": "execute_result"
    }
   ],
   "source": [
    "#df['new'] = df['Unnamed: 0'] + df['HHI']\n",
    "df.head()"
   ]
  },
  {
   "cell_type": "code",
   "execution_count": 5,
   "metadata": {},
   "outputs": [],
   "source": [
    "X = df.drop(['Unnamed: 0', 'PoliticalParty'], axis = 1)"
   ]
  },
  {
   "cell_type": "code",
   "execution_count": 6,
   "metadata": {},
   "outputs": [
    {
     "data": {
      "text/plain": [
       "0         Democrat\n",
       "1       Republican\n",
       "2      Independent\n",
       "3       Republican\n",
       "4         Democrat\n",
       "          ...     \n",
       "798       Democrat\n",
       "799       Democrat\n",
       "800       Democrat\n",
       "801     Republican\n",
       "802     Republican\n",
       "Name: PoliticalParty, Length: 803, dtype: object"
      ]
     },
     "execution_count": 6,
     "metadata": {},
     "output_type": "execute_result"
    }
   ],
   "source": [
    "y = df['PoliticalParty']\n",
    "y"
   ]
  },
  {
   "cell_type": "code",
   "execution_count": 7,
   "metadata": {},
   "outputs": [
    {
     "data": {
      "text/plain": [
       "DecisionTreeClassifier()"
      ]
     },
     "execution_count": 7,
     "metadata": {},
     "output_type": "execute_result"
    }
   ],
   "source": [
    "from sklearn.tree import DecisionTreeClassifier\n",
    "model = DecisionTreeClassifier()\n",
    "model.fit(X, y)"
   ]
  },
  {
   "cell_type": "code",
   "execution_count": 8,
   "metadata": {},
   "outputs": [],
   "source": [
    "#model.fit(X, y).feature_importances_*100"
   ]
  },
  {
   "cell_type": "code",
   "execution_count": 9,
   "metadata": {},
   "outputs": [],
   "source": [
    "new_test_data = pd.read_csv('test_set_label.csv')\n",
    "new_test_data.drop('Unnamed: 0', axis = 1, inplace = True)"
   ]
  },
  {
   "cell_type": "code",
   "execution_count": 10,
   "metadata": {},
   "outputs": [],
   "source": [
    "from sklearn.ensemble import RandomForestClassifier\n",
    "rf = RandomForestClassifier()"
   ]
  },
  {
   "cell_type": "code",
   "execution_count": 11,
   "metadata": {},
   "outputs": [
    {
     "data": {
      "text/plain": [
       "RandomForestClassifier()"
      ]
     },
     "execution_count": 11,
     "metadata": {},
     "output_type": "execute_result"
    }
   ],
   "source": [
    "rf.fit(X, y)"
   ]
  },
  {
   "cell_type": "code",
   "execution_count": 12,
   "metadata": {},
   "outputs": [],
   "source": [
    "#Prediction = rf.predict(new_test_data)\n",
    "#Prediction"
   ]
  },
  {
   "cell_type": "code",
   "execution_count": 13,
   "metadata": {},
   "outputs": [
    {
     "data": {
      "text/plain": [
       "KNeighborsClassifier(n_neighbors=100)"
      ]
     },
     "execution_count": 13,
     "metadata": {},
     "output_type": "execute_result"
    }
   ],
   "source": [
    "from sklearn.neighbors import KNeighborsClassifier\n",
    "knn = KNeighborsClassifier(n_neighbors = 100)\n",
    "knn.fit(X, y)"
   ]
  },
  {
   "cell_type": "code",
   "execution_count": 14,
   "metadata": {},
   "outputs": [],
   "source": [
    "#knn.predict(new_test_data)"
   ]
  },
  {
   "cell_type": "code",
   "execution_count": 15,
   "metadata": {},
   "outputs": [
    {
     "data": {
      "text/plain": [
       "LogisticRegression()"
      ]
     },
     "execution_count": 15,
     "metadata": {},
     "output_type": "execute_result"
    }
   ],
   "source": [
    "from sklearn.linear_model import LogisticRegression\n",
    "Lr = LogisticRegression()\n",
    "Lr.fit(X, y)"
   ]
  },
  {
   "cell_type": "code",
   "execution_count": 16,
   "metadata": {},
   "outputs": [],
   "source": [
    "#Prediction = Lr.predict(new_test_data)\n",
    "#Prediction"
   ]
  },
  {
   "cell_type": "code",
   "execution_count": 17,
   "metadata": {},
   "outputs": [
    {
     "data": {
      "text/plain": [
       "array(['Republican', 'Independent', 'Democrat', 'Independent', 'Democrat',\n",
       "       'Republican', 'Independent', 'Republican', 'Democrat',\n",
       "       'Republican', 'Independent', 'Democrat', 'Republican', 'Democrat',\n",
       "       'Independent', 'Democrat', 'Republican', 'Independent', 'Democrat',\n",
       "       'Democrat', 'Democrat', 'Republican', 'Democrat', 'Democrat',\n",
       "       'Democrat', 'Independent', 'Republican', 'Democrat', 'Independent',\n",
       "       'Democrat', 'Republican', 'Republican', 'Democrat', 'Democrat',\n",
       "       'Democrat', 'Independent', 'Independent', 'Democrat',\n",
       "       'Independent', 'Republican', 'Independent', 'Democrat',\n",
       "       'Republican', 'Independent', 'Democrat', 'Independent', 'Democrat',\n",
       "       'Independent', 'Democrat', 'Democrat', 'Republican', 'Democrat',\n",
       "       'Republican', 'Republican', 'Democrat', 'Democrat', 'Republican',\n",
       "       'Republican', 'Independent', 'Democrat', 'Republican',\n",
       "       'Republican', 'Democrat', 'Democrat', 'Republican', 'Democrat',\n",
       "       'Independent', 'Republican', 'Republican', 'Independent',\n",
       "       'Republican', 'Independent', 'Independent', 'Independent',\n",
       "       'Independent', 'Democrat', 'Independent', 'Independent',\n",
       "       'Democrat', 'Independent', 'Democrat', 'Democrat', 'Democrat',\n",
       "       'Independent', 'Democrat', 'Independent', 'Republican', 'Democrat',\n",
       "       'Democrat', 'Independent', 'Republican', 'Independent',\n",
       "       'Republican', 'Democrat', 'Democrat', 'Democrat', 'Republican',\n",
       "       'Independent', 'Democrat', 'Republican', 'Republican',\n",
       "       'Republican', 'Independent', 'Republican', 'Independent',\n",
       "       'Republican', 'Independent', 'Democrat', 'Independent',\n",
       "       'Republican', 'Republican', 'Democrat', 'Republican', 'Republican',\n",
       "       'Independent', 'Democrat', 'Independent', 'Independent',\n",
       "       'Democrat', 'Independent', 'Independent', 'Independent',\n",
       "       'Republican', 'Democrat', 'Independent', 'Independent', 'Democrat',\n",
       "       'Democrat', 'Democrat', 'Democrat', 'Independent', 'Independent',\n",
       "       'Independent', 'Republican', 'Democrat', 'Republican', 'Democrat',\n",
       "       'Republican', 'Independent', 'Republican', 'Independent',\n",
       "       'Democrat', 'Republican', 'Democrat', 'Republican', 'Republican',\n",
       "       'Democrat', 'Republican', 'Democrat', 'Independent', 'Democrat',\n",
       "       'Republican', 'Independent', 'Republican', 'Republican',\n",
       "       'Independent', 'Republican', 'Republican', 'Democrat',\n",
       "       'Independent', 'Democrat', 'Republican', 'Republican', 'Democrat',\n",
       "       'Republican', 'Democrat', 'Republican', 'Independent',\n",
       "       'Independent', 'Independent', 'Independent', 'Democrat',\n",
       "       'Independent', 'Independent', 'Democrat', 'Democrat', 'Republican',\n",
       "       'Independent', 'Independent', 'Democrat', 'Republican',\n",
       "       'Republican', 'Republican', 'Independent', 'Democrat', 'Democrat',\n",
       "       'Republican', 'Democrat', 'Democrat', 'Independent', 'Independent',\n",
       "       'Democrat', 'Republican', 'Independent', 'Democrat', 'Republican',\n",
       "       'Republican', 'Republican', 'Republican', 'Democrat', 'Republican'],\n",
       "      dtype=object)"
      ]
     },
     "execution_count": 17,
     "metadata": {},
     "output_type": "execute_result"
    }
   ],
   "source": [
    "Prediction = model.predict(new_test_data)\n",
    "Prediction"
   ]
  },
  {
   "cell_type": "code",
   "execution_count": 18,
   "metadata": {},
   "outputs": [],
   "source": [
    "res = pd.DataFrame(Prediction)"
   ]
  },
  {
   "cell_type": "code",
   "execution_count": 19,
   "metadata": {},
   "outputs": [],
   "source": [
    "res.index = new_test_data.index"
   ]
  },
  {
   "cell_type": "code",
   "execution_count": 20,
   "metadata": {},
   "outputs": [],
   "source": [
    "res.columns = ['prediction']"
   ]
  },
  {
   "cell_type": "code",
   "execution_count": 21,
   "metadata": {},
   "outputs": [],
   "source": [
    "res.to_csv('prediction.csv', index = False)"
   ]
  }
 ],
 "metadata": {
  "kernelspec": {
   "display_name": "Python 3",
   "language": "python",
   "name": "python3"
  },
  "language_info": {
   "codemirror_mode": {
    "name": "ipython",
    "version": 3
   },
   "file_extension": ".py",
   "mimetype": "text/x-python",
   "name": "python",
   "nbconvert_exporter": "python",
   "pygments_lexer": "ipython3",
   "version": "3.8.3"
  }
 },
 "nbformat": 4,
 "nbformat_minor": 4
}
